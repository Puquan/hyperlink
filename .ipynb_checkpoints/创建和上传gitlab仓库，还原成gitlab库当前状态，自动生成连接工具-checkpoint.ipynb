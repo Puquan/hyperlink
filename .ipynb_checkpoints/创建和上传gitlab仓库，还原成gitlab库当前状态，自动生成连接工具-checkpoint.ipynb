{
 "cells": [
  {
   "cell_type": "markdown",
   "metadata": {},
   "source": [
    "# 此notebook用来快速运行脚本"
   ]
  },
  {
   "cell_type": "markdown",
   "metadata": {},
   "source": [
    "### 使用方法：\n",
    "1. 打开终端先执行一次脚本，因为要输入用户密码\n",
    "2. 之后就可以在notenook里快速操作了"
   ]
  },
  {
   "cell_type": "markdown",
   "metadata": {},
   "source": [
    "## <font color='red'>请根据自己的需要修改脚本的参数<font>"
   ]
  },
  {
   "cell_type": "markdown",
   "metadata": {},
   "source": [
    "### 先运行下面单元格个各个脚本添加运行权限"
   ]
  },
  {
   "cell_type": "code",
   "execution_count": null,
   "metadata": {},
   "outputs": [],
   "source": [
    "!chmod +x create.sh && chmod +x upload.sh && chmod +x recover.sh"
   ]
  },
  {
   "cell_type": "markdown",
   "metadata": {},
   "source": [
    "### 创建gitlab仓库\n",
    "[create.sh](../../edit/hyperlink/create.sh)"
   ]
  },
  {
   "cell_type": "code",
   "execution_count": null,
   "metadata": {},
   "outputs": [],
   "source": [
    "!./create.sh"
   ]
  },
  {
   "cell_type": "markdown",
   "metadata": {},
   "source": [
    "### 上传到gitlab仓库\n",
    "[upload.sh](../../edit/hyperlink/upload.sh)"
   ]
  },
  {
   "cell_type": "code",
   "execution_count": null,
   "metadata": {},
   "outputs": [],
   "source": [
    "!./upload.sh"
   ]
  },
  {
   "cell_type": "markdown",
   "metadata": {},
   "source": [
    "### 使文档文件恢复到当前gitlab库文档状态\n",
    "[recover.sh](../../edit/hyperlink/recover.sh)"
   ]
  },
  {
   "cell_type": "code",
   "execution_count": null,
   "metadata": {},
   "outputs": [],
   "source": [
    "!./recover.sh"
   ]
  },
  {
   "cell_type": "markdown",
   "metadata": {},
   "source": [
    "## 生成文档下载链接并且直接在hub中打开"
   ]
  },
  {
   "cell_type": "code",
   "execution_count": 6,
   "metadata": {},
   "outputs": [],
   "source": [
    "from urllib.parse import unquote\n",
    "from urllib.parse import quote\n",
    "def search_dir_path(git_repo_link):\n",
    "    index = 0\n",
    "    for i in range(len(git_repo_link),0,-1):\n",
    "        if git_repo_link[i-1] == '/':\n",
    "            index = i-1\n",
    "            break\n",
    "    return git_repo_link[index:] + '/'\n",
    "\n",
    "def generate_link(git_repo_link, notebook_path):\n",
    "    \n",
    "    # hub地址变了请修改这\n",
    "    jupyterhub_URL = \"http://139.217.176.104:30002/\"\n",
    "    \n",
    "    # 后缀1\n",
    "    following1 = 'hub/user-redirect/git-pull?repo='\n",
    "    \n",
    "    # repo地址\n",
    "    encoded_gitrepo_url = quote(git_repo_link,'utf-8')\n",
    "    \n",
    "    # 后缀2\n",
    "    following2 = '&urlpath=tree'\n",
    "    \n",
    "    repopath = search_dir_path(git_repo_link)\n",
    "    \n",
    "    # 文件夹地址\n",
    "    encoded_repopath_url = quote(repopath,'utf-8')\n",
    "    \n",
    "    # notebook地址\n",
    "    encoded_notebook_url = quote(notebook_path,'utf-8')\n",
    "    \n",
    "    # 后缀3，branch变了修改这\n",
    "    following3 = '&branch=master'\n",
    "    \n",
    "     \n",
    "    url = jupyterhub_URL + following1 + encoded_gitrepo_url + following2 + encoded_repopath_url + encoded_notebook_url + following3\n",
    "    \n",
    "    return url"
   ]
  },
  {
   "cell_type": "markdown",
   "metadata": {},
   "source": [
    "# 运行下方单元格生成链接"
   ]
  },
  {
   "cell_type": "code",
   "execution_count": 24,
   "metadata": {},
   "outputs": [
    {
     "name": "stdout",
     "output_type": "stream",
     "text": [
      "请输入你的仓库地址： http://139.217.176.104:31000/Puquan/hyperlink\n",
      "请输入你要打开文件的相对地址： create.sh\n",
      "生成的链接为：\n",
      "http://139.217.176.104:30002/hub/user-redirect/git-pull?repo=http%3A%2F%2F139.217.176.104%3A31000%2FPuquan%2Fhyperlink&urlpath=tree%2Fhyperlink%2Fcreate.sh&branch=master\n"
     ]
    }
   ],
   "source": [
    "from pyperclip import copy\n",
    "def main():\n",
    "    repo = input('请输入你的仓库地址： ')\n",
    "    file = input('请输入你要打开文件的相对地址： ')\n",
    "    link = generate_link(repo,file)\n",
    "    print('生成的链接为：')\n",
    "    print(link)\n",
    "    \n",
    "main()"
   ]
  }
 ],
 "metadata": {
  "kernelspec": {
   "display_name": "Python 3",
   "language": "python",
   "name": "python3"
  },
  "language_info": {
   "codemirror_mode": {
    "name": "ipython",
    "version": 3
   },
   "file_extension": ".py",
   "mimetype": "text/x-python",
   "name": "python",
   "nbconvert_exporter": "python",
   "pygments_lexer": "ipython3",
   "version": "3.7.8"
  }
 },
 "nbformat": 4,
 "nbformat_minor": 4
}
